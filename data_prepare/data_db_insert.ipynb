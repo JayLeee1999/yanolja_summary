{
 "cells": [
  {
   "cell_type": "markdown",
   "id": "c27cb1eb",
   "metadata": {},
   "source": [
    "# REVIEW > DF로 로딩 함수"
   ]
  },
  {
   "cell_type": "code",
   "execution_count": 1,
   "id": "64f5a7fd",
   "metadata": {},
   "outputs": [],
   "source": [
    "import json\n",
    "import pandas as pd\n",
    "from dateutil import parser\n",
    "from datetime import datetime\n",
    "\n",
    "# file 로딩 > df 만드는 함수\n",
    "def load_data(data_path):\n",
    "    # 파일로딩\n",
    "    with open(f\"{data_path}\", \"r\", encoding=\"utf-8\") as file:\n",
    "        json_data = json.load(file)\n",
    "\n",
    "    # 로딩 데이터 > df로 만들기\n",
    "    df = pd.DataFrame(json_data)\n",
    "    # print(df.head())\n",
    "    # 데이터 전처리\n",
    "    df['date'].str.replace(\".\",\"-\")\n",
    "\n",
    "    # date 형태(2025.05.06)가 아닌경우, 날짜로 바꾸기\n",
    "    # 문자열을 날짜로 변환, 오류가 나는 경우 NaT로 처리\n",
    "    df['date'] = pd.to_datetime(df['date'], errors='coerce')\n",
    "\n",
    "    # 오늘 날짜\n",
    "    today = pd.Timestamp(datetime.today().date())\n",
    "\n",
    "    # NaT인 경우 오늘 날짜로 대체\n",
    "    df['date'] = df['date'].fillna(today)\n",
    "\n",
    "    # df 리턴하기 \n",
    "    return df"
   ]
  },
  {
   "cell_type": "code",
   "execution_count": 2,
   "id": "3e4d0d39",
   "metadata": {},
   "outputs": [
    {
     "data": {
      "text/plain": [
       "datetime.date(2025, 6, 5)"
      ]
     },
     "execution_count": 2,
     "metadata": {},
     "output_type": "execute_result"
    }
   ],
   "source": [
    "datetime.today().date()"
   ]
  },
  {
   "cell_type": "code",
   "execution_count": 3,
   "id": "ed209d8e",
   "metadata": {},
   "outputs": [
    {
     "name": "stdout",
     "output_type": "stream",
     "text": [
      "420\n"
     ]
    },
    {
     "name": "stderr",
     "output_type": "stream",
     "text": [
      "C:\\Users\\Admin\\AppData\\Local\\Temp\\ipykernel_20460\\2330629591.py:20: UserWarning: Could not infer format, so each element will be parsed individually, falling back to `dateutil`. To ensure parsing is consistent and as-expected, please specify a format.\n",
      "  df['date'] = pd.to_datetime(df['date'], errors='coerce')\n"
     ]
    },
    {
     "data": {
      "text/html": [
       "<div>\n",
       "<style scoped>\n",
       "    .dataframe tbody tr th:only-of-type {\n",
       "        vertical-align: middle;\n",
       "    }\n",
       "\n",
       "    .dataframe tbody tr th {\n",
       "        vertical-align: top;\n",
       "    }\n",
       "\n",
       "    .dataframe thead th {\n",
       "        text-align: right;\n",
       "    }\n",
       "</style>\n",
       "<table border=\"1\" class=\"dataframe\">\n",
       "  <thead>\n",
       "    <tr style=\"text-align: right;\">\n",
       "      <th></th>\n",
       "      <th>review</th>\n",
       "      <th>stars</th>\n",
       "      <th>date</th>\n",
       "    </tr>\n",
       "  </thead>\n",
       "  <tbody>\n",
       "    <tr>\n",
       "      <th>0</th>\n",
       "      <td>바닷가 바로앞이라 너무좋아요.\\n객실도 깨끗하고, 샤워기 수압좋고 따뜻한물 잘 나오...</td>\n",
       "      <td>5</td>\n",
       "      <td>2025-06-05</td>\n",
       "    </tr>\n",
       "    <tr>\n",
       "      <th>1</th>\n",
       "      <td>오션뷰라 진짜 좋았어요!! ㅎㅎㅎ\\n제 생일이라 남자친구하고 처음 오션뷰 예약해서 ...</td>\n",
       "      <td>5</td>\n",
       "      <td>2025-06-05</td>\n",
       "    </tr>\n",
       "    <tr>\n",
       "      <th>2</th>\n",
       "      <td>황금연휴에 방문했는데 오션뷰가 정말 예쁘더라고요👍\\n저는 2층에 머물렀는데, 창밖으...</td>\n",
       "      <td>5</td>\n",
       "      <td>2025-05-06</td>\n",
       "    </tr>\n",
       "    <tr>\n",
       "      <th>3</th>\n",
       "      <td>위치좋고 직원들 전부 친절하고 재방문의사100%입니다</td>\n",
       "      <td>5</td>\n",
       "      <td>2025-06-05</td>\n",
       "    </tr>\n",
       "    <tr>\n",
       "      <th>4</th>\n",
       "      <td>좋았습니다 수고하세요</td>\n",
       "      <td>5</td>\n",
       "      <td>2025-06-05</td>\n",
       "    </tr>\n",
       "  </tbody>\n",
       "</table>\n",
       "</div>"
      ],
      "text/plain": [
       "                                              review  stars       date\n",
       "0  바닷가 바로앞이라 너무좋아요.\\n객실도 깨끗하고, 샤워기 수압좋고 따뜻한물 잘 나오...      5 2025-06-05\n",
       "1  오션뷰라 진짜 좋았어요!! ㅎㅎㅎ\\n제 생일이라 남자친구하고 처음 오션뷰 예약해서 ...      5 2025-06-05\n",
       "2  황금연휴에 방문했는데 오션뷰가 정말 예쁘더라고요👍\\n저는 2층에 머물렀는데, 창밖으...      5 2025-05-06\n",
       "3                      위치좋고 직원들 전부 친절하고 재방문의사100%입니다      5 2025-06-05\n",
       "4                                        좋았습니다 수고하세요      5 2025-06-05"
      ]
     },
     "execution_count": 3,
     "metadata": {},
     "output_type": "execute_result"
    }
   ],
   "source": [
    "# 함수 호출부\n",
    "data_path = \"res/1.gangneung_mare.json\"\n",
    "df = load_data(data_path)\n",
    "print(len(df))\n",
    "df.head()"
   ]
  },
  {
   "cell_type": "markdown",
   "id": "52732e75",
   "metadata": {},
   "source": [
    "# mysql DB 연결하기"
   ]
  },
  {
   "cell_type": "code",
   "execution_count": 16,
   "id": "7dd43028",
   "metadata": {},
   "outputs": [],
   "source": [
    "from dotenv import load_dotenv\n",
    "import os\n",
    "import pandas as pd\n",
    "from sqlalchemy import create_engine\n",
    "\n",
    "# .env 파일을 찾아서 환경변수 로딩\n",
    "load_dotenv('.env', override=True)\n",
    "\n",
    "# 메모리에 로딩된 환경변수 값을 가져오기\n",
    "USER = os.environ.get(\"USER\")\n",
    "PASSWORD = os.environ.get(\"PASSWORD\")\n",
    "HOST = os.environ.get(\"HOST\")\n",
    "DB_NAME = os.environ.get(\"DB_NAME\")\n",
    "PORT = 3306\n",
    "\n",
    "# DB_RUL = f\"mysql+pymsql://{id}:{pw}@{서버ip}:{port}/{db}\"\n",
    "db_url = f\"mysql+pymysql://{USER}:{PASSWORD}@{HOST}:{PORT}/{DB_NAME}\""
   ]
  },
  {
   "cell_type": "markdown",
   "id": "3cffc50c",
   "metadata": {},
   "source": [
    "# df > mysql 테이블에 저장"
   ]
  },
  {
   "cell_type": "code",
   "execution_count": 17,
   "id": "966734d8",
   "metadata": {},
   "outputs": [],
   "source": [
    "# df -> db save\n",
    "def save_to_db(df, table_name):\n",
    "    try:\n",
    "        # SQLAlchemy 엔진 생성\n",
    "        engine = create_engine(db_url)\n",
    "\n",
    "        # DataFrame을 MySQL 테이블에 저장\n",
    "        df.to_sql(\n",
    "            name = table_name,\n",
    "            con=engine,\n",
    "            if_exists='append',  # 기존 데이터에 추가\n",
    "            index=False,         # 인덱스는 저장하지 않음\n",
    "            method='multi'       # 성능 향상을 위한 bulk insert\n",
    "        )\n",
    "\n",
    "        print(f\"SQLAlchemy를 통해 {len(df)}개의 리뷰가 성공적으로 저장되었습니다.\")\n",
    "\n",
    "    except Exception as e:\n",
    "        print(f\"SQLAlchemy 저장 중 오류 발생: {e}\")"
   ]
  },
  {
   "cell_type": "markdown",
   "id": "e1eedc27",
   "metadata": {},
   "source": [
    "## 숙소 정보 DB 저장"
   ]
  },
  {
   "cell_type": "code",
   "execution_count": 6,
   "id": "1b1c781b",
   "metadata": {},
   "outputs": [
    {
     "name": "stdout",
     "output_type": "stream",
     "text": [
      "SQLAlchemy를 통해 4개의 리뷰가 성공적으로 저장되었습니다.\n"
     ]
    }
   ],
   "source": [
    "import pandas as pd\n",
    "df = pd.read_csv(\"res/accommodation_info.csv\", encoding='utf-8')\n",
    "# 숙소정보 DB 저장\n",
    "table_name = 'accommodation_info'\n",
    "\n",
    "df.head()\n",
    "save_to_db(df, table_name)\n",
    "# print(f\"{table_name}에 데이터 저장 완료\")"
   ]
  },
  {
   "cell_type": "markdown",
   "id": "b5e5d7f7",
   "metadata": {},
   "source": [
    "## 리뷰데이터 저장하기"
   ]
  },
  {
   "cell_type": "code",
   "execution_count": 7,
   "id": "699a9084",
   "metadata": {},
   "outputs": [
    {
     "name": "stdout",
     "output_type": "stream",
     "text": [
      "SQLAlchemy를 통해 420개의 리뷰가 성공적으로 저장되었습니다.\n"
     ]
    },
    {
     "name": "stderr",
     "output_type": "stream",
     "text": [
      "C:\\Users\\Admin\\AppData\\Local\\Temp\\ipykernel_20460\\2330629591.py:20: UserWarning: Could not infer format, so each element will be parsed individually, falling back to `dateutil`. To ensure parsing is consistent and as-expected, please specify a format.\n",
      "  df['date'] = pd.to_datetime(df['date'], errors='coerce')\n"
     ]
    }
   ],
   "source": [
    "# 전처리\n",
    "data_path = \"res/1.gangneung_mare.json\"\n",
    "df = load_data(data_path)\n",
    "\n",
    "# df에 accommodation_id 추가하기\n",
    "# 강릉 마레는 accommodation_id = 1\n",
    "df['accommodation_id'] = 1\n",
    "# df.head()\n",
    "\n",
    "# DB 테이블에 저장하기\n",
    "table_name = \"accommodation_review\"\n",
    "save_to_db(df, table_name)\n",
    "\n",
    "# save_to_db(df, \"accommodation_review\")\n",
    "# save_to_db(df, table_name)"
   ]
  },
  {
   "cell_type": "markdown",
   "id": "e1aa5d41",
   "metadata": {},
   "source": [
    "## 여러개의 파일을 일괄로 전처리하기"
   ]
  },
  {
   "cell_type": "markdown",
   "id": "aac52908",
   "metadata": {},
   "source": [
    "- 함수정의"
   ]
  },
  {
   "cell_type": "code",
   "execution_count": 8,
   "id": "a16d3836",
   "metadata": {},
   "outputs": [],
   "source": [
    "import json\n",
    "import pandas as pd\n",
    "from dateutil import parser\n",
    "from datetime import datetime\n",
    "\n",
    "# file 로딩 > df 만드는 함수\n",
    "def load_data_multi(acco_id, data_path):\n",
    "    # 파일로딩\n",
    "    with open(f\"{data_path}\", \"r\", encoding=\"utf-8\") as file:\n",
    "        json_data = json.load(file)\n",
    "\n",
    "    # 로딩 데이터 > df로 만들기\n",
    "    df = pd.DataFrame(json_data)\n",
    "    # print(df.head())\n",
    "    # 데이터 전처리\n",
    "    df['date'].str.replace(\".\",\"-\")\n",
    "\n",
    "    # date 형태(2025.05.06)가 아닌경우, 날짜로 바꾸기\n",
    "    # 문자열을 날짜로 변환, 오류가 나는 경우 NaT로 처리\n",
    "    df['date'] = pd.to_datetime(df['date'], errors='coerce')\n",
    "\n",
    "    # 오늘 날짜\n",
    "    today = pd.Timestamp(datetime.today().date())\n",
    "\n",
    "    # NaT인 경우 오늘 날짜로 대체\n",
    "    df['date'] = df['date'].fillna(today)\n",
    "    \n",
    "    # df 에 accommodation_id 추가하기\n",
    "    # 강릉 마레는 accommodation_id =1\n",
    "    df['accommodation_id'] = 1\n",
    "\n",
    "    # df 리턴하기 \n",
    "    return df"
   ]
  },
  {
   "cell_type": "markdown",
   "id": "96335512",
   "metadata": {},
   "source": [
    "- 일괄실행"
   ]
  },
  {
   "cell_type": "code",
   "execution_count": 9,
   "id": "d62db7aa",
   "metadata": {},
   "outputs": [
    {
     "name": "stdout",
     "output_type": "stream",
     "text": [
      "SQLAlchemy를 통해 400개의 리뷰가 성공적으로 저장되었습니다.\n",
      "SQLAlchemy를 통해 420개의 리뷰가 성공적으로 저장되었습니다.\n"
     ]
    },
    {
     "name": "stderr",
     "output_type": "stream",
     "text": [
      "C:\\Users\\Admin\\AppData\\Local\\Temp\\ipykernel_20460\\2825726136.py:20: UserWarning: Could not infer format, so each element will be parsed individually, falling back to `dateutil`. To ensure parsing is consistent and as-expected, please specify a format.\n",
      "  df['date'] = pd.to_datetime(df['date'], errors='coerce')\n"
     ]
    }
   ],
   "source": [
    "# 전처리하고 저장해야하는 데이터 파일이 10\n",
    "MAPPING = {\n",
    "    # 1: './res/1.gangneung_mare.json',\n",
    "    2: './res/2.insadong_ninetree.json',\n",
    "    3: './res/3.kyongpo_the_hongc.json',\n",
    "    # 4: './res/4.hongcheon_vivaldi.json'\n",
    "}\n",
    "for acco_id, data_path in MAPPING.items():\n",
    "# 전처리\n",
    "    # data_path = \"res/1.gangneung_mare.json\"\n",
    "    df = load_data_multi(acco_id, data_path)\n",
    "\n",
    "    # DB 테이블에 저장하기\n",
    "    table_name = \"accommodation_review\"\n",
    "    save_to_db(df, table_name)\n"
   ]
  },
  {
   "cell_type": "code",
   "execution_count": 10,
   "id": "8715b86a",
   "metadata": {},
   "outputs": [],
   "source": [
    "# models.py 모듈을 인식하기 위해 경로 추가,\n",
    "import sys\n",
    "sys.path.append('C:/Users/Admin/kpmg_future_labyanolja_summary/data_prepare')  # 실제 경로로 변경"
   ]
  },
  {
   "cell_type": "code",
   "execution_count": 11,
   "id": "27e13b1e",
   "metadata": {},
   "outputs": [],
   "source": [
    "from summary_modules import load_prompt, preprocess_reviews, summarize"
   ]
  },
  {
   "cell_type": "code",
   "execution_count": 12,
   "id": "746f11ef",
   "metadata": {},
   "outputs": [
    {
     "data": {
      "text/plain": [
       "'당신은 요약 전문가입니다. 사용자 숙소 리뷰들이 주어졌을 때 요약하는 것이 당신의 목표입니다. 다음은 리뷰들과 요약 예시입니다.\\n예시 리뷰들:\\n[REVIEW_START]강릉 여행길에  들럿는데  아주 예약을 잘했어요\\n호텔이  주인의 품격이 느껴지더군요  \\n조용하고 좋습니다[REVIEW_END]\\n[REVIEW_START]로비도 고급지고 객실도 깔끔하니 너무나 만족스런1박 했습니다.\\n침구가 너무 좋아서 잘 잘수있었어요.\\n다음에 여행가면 여기에 다시 묵을겁니다[REVIEW_END]\\n[REVIEW_START]친절한 안내와 정리정돈도 잘 되어 있어 편안하게 잘수있었어요[REVIEW_END]\\n[REVIEW_START]부모님 여행 숙소 예약해드렸는데 너무 만족하셨어요! 굿![REVIEW_END]\\n[REVIEW_START]자주 갔던곳인데 너무 깨끗하고 아늑하고 좋아요\\n침구류 냄새 하도 안나서 좋았습니다[REVIEW_END]\\n[REVIEW_START]밖에 나와서 주치 안내해 준 직원분에게 감사인사를 전합니다.  직원분들 모두 친절하시네요[REVIEW_END]\\n[REVIEW_START]객실 깨끗하고 편하고 다 좋은데\\n패스트푸드제외\\n배달음식 못시켜먹는것이 아쉽습니다\\n직원분들 너무친절하시고 좋아요!![REVIEW_END]\\n[REVIEW_START]시설 깔끔하고 택지지구에 있어 주변 인프라가 좋습니다 다만 외부 음식 관련 안내는 사전 안내가 필요할 것 같습니다[REVIEW_END]\\n[REVIEW_START]프론트분들도 친절하고 방도 깨꿋하고 업무차 강룽가서 처음이용했는데 너무 편하고 좋았어요[REVIEW_END]\\n[REVIEW_START]부모님 예약해드렸는데 편안하게 잘 쉬었다고 하시네요! 다만 윗층에 아이들 소리 들린다는 거 보면 방음은 조금 아쉬운 편인거 같아요ㅠㅠ[REVIEW_END]\\n[REVIEW_START]편하게 잘 보냈습니다. 조식 샌드위치 진짜 맛있어요!![REVIEW_END]\\n[REVIEW_START]직원분들 너무 친절하시고 조식도 직접 호텔방문앞까지 갖다주십니당!! 체크인 시간보다 조금 일찍 도착했는데도 빠르게 일처리 해주셔서 감사했어요!!🤗 객실도 깨끗하고 완전 추천합니다~~!!재방문 의사 뿜뿜!👍[REVIEW_END]\\n[REVIEW_START]하루 지내기 좋은 숙소에요 교동에 위치해서 오가기 편합니다[REVIEW_END]\\n[REVIEW_START]진짜 깔끔하고 좋아요. 주차는 주차타워 써야하는 게 단점이긴 하지만.. 그래도 뭐 출차하기도 편하고 다 좋아요~~ 강추합니다ㅎㅎ 깔-끔!![REVIEW_END]\\n[REVIEW_START]따듯하고 깨끗해서 좋았어요! 다음에도 이용할 것 같아오 감사합니당[REVIEW_END]\\n예시 요약 결과:\\n강릉 여행길에 들렀을 때 아주 예약을 잘한 호텔이었습니다. 주인의 품격이 느껴지며 조용하고 좋은 숙소였습니다. 로비도 고급스럽고 객실도 깔끔하여 너무 만족스러운 1박을 했습니다. 침구가 훌륭해서 편안하게 잘 수 있었고, 다음에 여행을 가면 다시 묵을 의향이 있습니다. 친절한 안내와 정리정돈이 잘 되어 있어 편안하게 잘 수 있었습니다. 부모님도 만족하셨고, 깨끗하고 아늑한 숙소였습니다. 객실이 깨끗하고 편안하며, 직원분들도 친절하셨습니다.\\n\\n아래 숙소 리뷰들에 대해 요약해주세요:'"
      ]
     },
     "execution_count": 12,
     "metadata": {},
     "output_type": "execute_result"
    }
   ],
   "source": [
    "\n",
    "prompt_file = \"res/prompt_1shotv1.pickle\"\n",
    "prompt = load_prompt(prompt_file)\n",
    "prompt"
   ]
  },
  {
   "cell_type": "code",
   "execution_count": 13,
   "id": "3cb64257",
   "metadata": {},
   "outputs": [],
   "source": [
    "data_path = \"res/1.gangneung_mare.json\"\n",
    "review_good, review_bad = preprocess_reviews(data_path)\n",
    "summary_good = summarize(review_good, prompt)\n",
    "summary_bad = summarize(review_bad, prompt)"
   ]
  },
  {
   "cell_type": "markdown",
   "id": "9a2e4054",
   "metadata": {},
   "source": [
    "# 모든 리뷰 요약 데이터 일괄 처리\n",
    "- 전처리, df 만들기, mysql에 저장"
   ]
  },
  {
   "cell_type": "code",
   "execution_count": 14,
   "id": "c07d3bd2",
   "metadata": {},
   "outputs": [],
   "source": [
    "# 전처리하고 저장해야하는 데이터 파일이 10\n",
    "MAPPING = {\n",
    "    1: './res/1.gangneung_mare.json',\n",
    "    2: './res/2.insadong_ninetree.json',\n",
    "    3: './res/3.kyongpo_the_hongc.json',\n",
    "    # 4: './res/4.hongcheon_vivaldi.json'\n",
    "    }"
   ]
  },
  {
   "cell_type": "code",
   "execution_count": 18,
   "id": "124c558d",
   "metadata": {},
   "outputs": [
    {
     "name": "stdout",
     "output_type": "stream",
     "text": [
      "   accommodation_id                                       summary_good  \\\n",
      "0                 1  바닷가 바로 앞에 위치한 숙소로, 객실이 깨끗하고 샤워기 수압이 좋아서 친구들과 함...   \n",
      "\n",
      "                                         summary_bad        date  \n",
      "0  바람이 불어 예정보다 30분 늦게 숙소 입실을 허락해줬지만 오션뷰가 기대에 못 미치...  2025-06-05  \n",
      "SQLAlchemy를 통해 1개의 리뷰가 성공적으로 저장되었습니다.\n",
      "./res/1.gangneung_mare.json 숙소의 리뷰 요약이 완료되었습니다.\n",
      "   accommodation_id                                       summary_good  \\\n",
      "0                 2  도심지에 위치한 숙소로 인사동이나 근처를 구경하기에 좋았습니다. 객실이 깨끗하고 안...   \n",
      "\n",
      "                                         summary_bad        date  \n",
      "0  청소상태가 불결하고 벽과 세면대에 머리카락이 투성이인 호텔이었습니다. 방음이 전혀 ...  2025-06-05  \n",
      "SQLAlchemy를 통해 1개의 리뷰가 성공적으로 저장되었습니다.\n",
      "./res/2.insadong_ninetree.json 숙소의 리뷰 요약이 완료되었습니다.\n",
      "   accommodation_id                                       summary_good  \\\n",
      "0                 3  강릉 여행길에 들렀을 때 아주 예약을 잘한 호텔이었습니다. 주인의 품격이 느껴지며 ...   \n",
      "\n",
      "                                         summary_bad        date  \n",
      "0  예약할 때부터 공사 안내가 필요하다고 생각합니다. 체크인 시에도 공사로 인한 불편함...  2025-06-05  \n",
      "SQLAlchemy를 통해 1개의 리뷰가 성공적으로 저장되었습니다.\n",
      "./res/3.kyongpo_the_hongc.json 숙소의 리뷰 요약이 완료되었습니다.\n"
     ]
    }
   ],
   "source": [
    "\n",
    "table_name='review_summary'\n",
    "\n",
    "# 리뷰 전처리\n",
    "for id, path in MAPPING.items():\n",
    "    review_good, review_bad = preprocess_reviews(path)\n",
    "\n",
    "    if review_good:\n",
    "        summary_good = summarize(review_good, prompt)\n",
    "        # print(summary_good)\n",
    "    else:\n",
    "        summary_good = \"분석할 높은 평점 리뷰가 없습니다.\"\n",
    "    # 나쁜 리뷰 요약\n",
    "    if review_bad:\n",
    "        summary_bad = summarize(review_bad, prompt)\n",
    "        # print(summary_bad)\n",
    "    else:\n",
    "        summary_bad = \"분석할 낮은 평점 리뷰가 없습니다.\"\n",
    "\n",
    "    # 처리결과 데이터 프레임으로 만들어서 저장하기\n",
    "    df = pd.DataFrame({\n",
    "        'accommodation_id': [id],\n",
    "        'summary_good': [summary_good],\n",
    "        'summary_bad': [summary_bad],\n",
    "        'date': [pd.Timestamp.now().strftime('%Y-%m-%d')]\n",
    "    })\n",
    "    print(df)\n",
    "\n",
    "    # # MySQL에 저장    \n",
    "    save_to_db(df, table_name)\n",
    "    print(f\"{path} 숙소의 리뷰 요약이 완료되었습니다.\")"
   ]
  }
 ],
 "metadata": {
  "kernelspec": {
   "display_name": "llm_env",
   "language": "python",
   "name": "python3"
  },
  "language_info": {
   "codemirror_mode": {
    "name": "ipython",
    "version": 3
   },
   "file_extension": ".py",
   "mimetype": "text/x-python",
   "name": "python",
   "nbconvert_exporter": "python",
   "pygments_lexer": "ipython3",
   "version": "3.11.11"
  }
 },
 "nbformat": 4,
 "nbformat_minor": 5
}
