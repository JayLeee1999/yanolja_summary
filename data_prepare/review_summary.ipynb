{
 "cells": [
  {
   "cell_type": "markdown",
   "id": "e8e25bae",
   "metadata": {},
   "source": [
    "# GPT를 활용해 리뷰 요약 BEST PROMPT 작성\n",
    "- 서비스에서 사용 할 GPT 모델: GPT 3.5-TURBO "
   ]
  },
  {
   "cell_type": "code",
   "execution_count": 49,
   "id": "dd5d3293",
   "metadata": {},
   "outputs": [
    {
     "name": "stdout",
     "output_type": "stream",
     "text": [
      "Hello! How can I assist you today?\n"
     ]
    }
   ],
   "source": [
    "import os\n",
    "from openai import OpenAI\n",
    "from dotenv import load_dotenv\n",
    "\n",
    "# 환경변수 로딩\n",
    "load_dotenv('../.env', override=True)           # 인식이 안된다면 ../  > 붙이세연 상위에 있다는 뜻\n",
    "\n",
    "# 메모리에 로딩된 값을 api_key 변수에 대입\n",
    "OPENAI_API_KEY = os.environ.get(\"OPENAI_API_KEY\")\n",
    "\n",
    "client = OpenAI(api_key=OPENAI_API_KEY)\n",
    "\n",
    "completion = client.chat.completions.create(\n",
    "    model='gpt-3.5-turbo-0125',\n",
    "    messages=[{'role': 'user', 'content': 'hi'}],\n",
    "    temperature=0.0\n",
    ")\n",
    "\n",
    "print(completion.choices[0].message.content)"
   ]
  },
  {
   "cell_type": "markdown",
   "id": "4606c125",
   "metadata": {},
   "source": [
    "# 데이터 전처리\n",
    "- 리뷰데이터 파일 로딩\n",
    "- 리뷰 요약 기준 (평점 1~5)\n",
    "    - good: 평점 5\n",
    "    - bad: 평점 4 이하\n",
    "- 각 리뷰마다 special token\n",
    "    - '[REVIEW_START]' + ['review'] + '[REVIEW_END]'\n",
    "- 리뷰를 하나의 문자열로 통합\n",
    "    - reviews_good, reviews_bad\n",
    "\n"
   ]
  },
  {
   "cell_type": "code",
   "execution_count": 50,
   "id": "6e4d83c8",
   "metadata": {},
   "outputs": [
    {
     "data": {
      "text/plain": [
       "[{'review': '강릉 여행길에  들럿는데  아주 예약을 잘했어요\\n호텔이  주인의 품격이 느껴지더군요  \\n조용하고 좋습니다',\n",
       "  'stars': 5,\n",
       "  'date': '2025.02.03'},\n",
       " {'review': '로비도 고급지고 객실도 깔끔하니 너무나 만족스런1박 했습니다.\\n침구가 너무 좋아서 잘 잘수있었어요.\\n다음에 여행가면 여기에 다시 묵을겁니다',\n",
       "  'stars': 5,\n",
       "  'date': '2024.12.23'},\n",
       " {'review': '친절한 안내와 정리정돈도 잘 되어 있어 편안하게 잘수있었어요',\n",
       "  'stars': 5,\n",
       "  'date': '2024.12.09'}]"
      ]
     },
     "execution_count": 50,
     "metadata": {},
     "output_type": "execute_result"
    }
   ],
   "source": [
    "import json\n",
    "\n",
    "with open('./res/3.kyongpo_the_hongc.json', 'r') as f:\n",
    "    review_list = json.load(f)\n",
    "\n",
    "review_list[:3]"
   ]
  },
  {
   "cell_type": "code",
   "execution_count": 51,
   "id": "7384771b",
   "metadata": {},
   "outputs": [
    {
     "data": {
      "text/plain": [
       "(329, 91)"
      ]
     },
     "execution_count": 51,
     "metadata": {},
     "output_type": "execute_result"
    }
   ],
   "source": [
    "good_cnt, bad_cnt = 0, 0\n",
    "for r in review_list:\n",
    "    if r['stars'] == 5:\n",
    "        good_cnt += 1\n",
    "    else:\n",
    "        bad_cnt += 1\n",
    "\n",
    "good_cnt, bad_cnt"
   ]
  },
  {
   "cell_type": "code",
   "execution_count": 52,
   "id": "eee349ff",
   "metadata": {},
   "outputs": [
    {
     "data": {
      "text/plain": [
       "['[REVIEW_START]강릉 여행길에  들럿는데  아주 예약을 잘했어요\\n호텔이  주인의 품격이 느껴지더군요  \\n조용하고 좋습니다[REVIEW_END]',\n",
       " '[REVIEW_START]로비도 고급지고 객실도 깔끔하니 너무나 만족스런1박 했습니다.\\n침구가 너무 좋아서 잘 잘수있었어요.\\n다음에 여행가면 여기에 다시 묵을겁니다[REVIEW_END]',\n",
       " '[REVIEW_START]친절한 안내와 정리정돈도 잘 되어 있어 편안하게 잘수있었어요[REVIEW_END]']"
      ]
     },
     "execution_count": 52,
     "metadata": {},
     "output_type": "execute_result"
    }
   ],
   "source": [
    "reviews_good, reviews_bad = [], []\n",
    "for r in review_list:\n",
    "    if r['stars'] == 5:\n",
    "        # 스페셜 토큰 추가\n",
    "        reviews_good.append('[REVIEW_START]' + r['review'] + '[REVIEW_END]')\n",
    "    else:\n",
    "        reviews_bad.append('[REVIEW_START]' + r['review'] + '[REVIEW_END]')\n",
    "\n",
    "reviews_good[:3]"
   ]
  },
  {
   "cell_type": "code",
   "execution_count": 53,
   "id": "e4a59e21",
   "metadata": {},
   "outputs": [
    {
     "data": {
      "text/plain": [
       "'[REVIEW_START]강릉 여행길에  들럿는데  아주 예약을 잘했어요\\n호텔이  주인의 품격이 느껴지더군요  \\n조용하고 좋습니다[REVIEW_END]\\n[REVIEW_START]로'"
      ]
     },
     "execution_count": 53,
     "metadata": {},
     "output_type": "execute_result"
    }
   ],
   "source": [
    "# GOOD 문자, 하나의 문자열로 합치기 / .join\n",
    "reviews_good_text = '\\n'.join(reviews_good)\n",
    "reviews_good_text[:100]"
   ]
  },
  {
   "cell_type": "code",
   "execution_count": 54,
   "id": "35dda027",
   "metadata": {},
   "outputs": [
    {
     "data": {
      "text/plain": [
       "'[REVIEW_START]방음이 좀 안되긴 한데 욕실 깨끗해서 좋아요[REVIEW_END]\\n[REVIEW_START]공사한다고 예약힐때부터 알려주면좋겠고 체크인할때 공사한다고 불편'"
      ]
     },
     "execution_count": 54,
     "metadata": {},
     "output_type": "execute_result"
    }
   ],
   "source": [
    "# bad 문자, 하나의 문자열로 합치기\n",
    "reviews_bad_text = '\\n'.join(reviews_bad)\n",
    "reviews_bad_text[:100]"
   ]
  },
  {
   "cell_type": "code",
   "execution_count": 55,
   "id": "aa00620e",
   "metadata": {},
   "outputs": [],
   "source": [
    "import datetime\n",
    "current_datetime = datetime.datetime.now()\n",
    "date_boundary = current_datetime - datetime.timedelta(days=6*30)"
   ]
  },
  {
   "cell_type": "markdown",
   "id": "7e70d345",
   "metadata": {},
   "source": [
    "- 하나의 숙박시설에 대한 리뷰데이터 전처리 함수 정의"
   ]
  },
  {
   "cell_type": "code",
   "execution_count": 56,
   "id": "b7bc8421",
   "metadata": {},
   "outputs": [],
   "source": [
    "# import json\n",
    "# from dateutil import parser\n",
    "\n",
    "# # 정의부\n",
    "# def preprocess_reviews(data_path) : \n",
    "#     with open(data_path, 'r') as f:\n",
    "#         review_list = json.load(f)\n",
    "#     # print(review_list)\n",
    "\n",
    "#     reviews_good, reviews_bad = [], []\n",
    "\n",
    "#     for r in review_list:\n",
    "        \n",
    "#         if r['stars'] == 5:\n",
    "#             # 스페셜 토큰 추가\n",
    "#             reviews_good.append('[REVIEW_START]' + r['review'] + '[REVIEW_END]')\n",
    "#         else:\n",
    "#             reviews_bad.append('[REVIEW_START]' + r['review'] + '[REVIEW_END]')\n",
    "\n",
    "#     reviews_good_text = '\\n'.join(reviews_good)\n",
    "#     reviews_bad_text = '\\n'.join(reviews_bad)\n",
    "\n",
    "#     return reviews_good_text, reviews_bad_text\n",
    "\n",
    "# # print(reviews_good)\n",
    "# print(reviews_bad)"
   ]
  },
  {
   "cell_type": "code",
   "execution_count": 57,
   "id": "7a06f241",
   "metadata": {},
   "outputs": [],
   "source": [
    "# # 호출부\n",
    "# data_path = \"res/1.gangneung_mare.json\"\n",
    "# preprocess_reviews(data_path)"
   ]
  },
  {
   "cell_type": "code",
   "execution_count": 58,
   "id": "b719add2",
   "metadata": {},
   "outputs": [
    {
     "data": {
      "text/plain": [
       "'[REVIEW_START]강릉 여행길에  들럿는데  아주 예약을 잘했어요\\n호텔이  주인의 품격이 느껴지더군요  \\n조용하고 좋습니다[REVIEW_END]\\n[REVIEW_START]로'"
      ]
     },
     "execution_count": 58,
     "metadata": {},
     "output_type": "execute_result"
    }
   ],
   "source": [
    "import datetime\n",
    "import json\n",
    "from dateutil import parser\n",
    "\n",
    "def preprocess_reviews(path):\n",
    "    with open(path, 'r', encoding='utf-8') as f:\n",
    "        # list 형태로 json 파일 일기\n",
    "        review_list = json.load(f)\n",
    "\n",
    "    # good, bad 데이터 저장 변수 초기화\n",
    "    reviews_good, reviews_bad = [], []\n",
    "\n",
    "    # 현재 이전 6개월 데이터 사용을 위해 날짜계산\n",
    "    current_date = datetime.datetime.now()\n",
    "    date_boundary = current_date - datetime.timedelta(days=6*30)\n",
    "    # print(date_boundary)\n",
    "\n",
    "    # 리뷰데이터 \n",
    "    for r in review_list:\n",
    "        review_date_str = r['date']\n",
    "        try:\n",
    "            # 리뷰 날짜 문자열을 datetime 객체로 변환\n",
    "            review_date = parser.parse(review_date_str)\n",
    "        except (ValueError, TypeError):\n",
    "            # 정상 날짜 데이터 아닌경우 현재 날짜 대입\n",
    "            review_date = current_date\n",
    "\n",
    "        # 날짜 바운더리 보다 작으면, pass\n",
    "        if review_date < date_boundary:\n",
    "            continue\n",
    "\n",
    "        # 평점 5점 기준\n",
    "        if r['stars'] == 5:\n",
    "            reviews_good.append('[REVIEW_START]' + r['review'] + '[REVIEW_END]')\n",
    "        else:\n",
    "            reviews_bad.append('[REVIEW_START]' + r['review'] + '[REVIEW_END]')\n",
    "\n",
    "    # good, bad 하나의 문자열 리스트로 합치기\n",
    "    reviews_good_text = '\\n'.join(reviews_good)\n",
    "    reviews_bad_text = '\\n'.join(reviews_bad)\n",
    "\n",
    "    # good 리뷰와 bad 리뷰 반환\n",
    "    return reviews_good_text, reviews_bad_text\n",
    "\n",
    "# 리뷰 데이터 전처리 함수 호출\n",
    "data='./res/3.kyongpo_the_hongc.json'\n",
    "good, bad = preprocess_reviews(data)\n",
    "good[:100]"
   ]
  },
  {
   "cell_type": "markdown",
   "id": "2b651b41",
   "metadata": {},
   "source": [
    "# 평가용 함수 작성\n",
    "\n",
    "## 평가 기준 설정\n",
    "\n",
    "- MT-Bench 논문 기반 Pairwise Comparision (=LLM 기반 평가)\n",
    "    - 비교하는 방식 vs. 점수 매기는 방식\n",
    "    - 점수라는게 애매 할 수 있음 (ex. 어느 정도의 요약 품질이 3점인가?)\n",
    "    - 경험상 점수보다는 비교가 상대적으로 더 정확한 편\n",
    "## 평가 스크립트 작성\n",
    "- MT-Bench 논문 Prompt에서 일부 단어만 수정 (ex. Korean summaries, accommodations)\n",
    "    - [[A]] – 어시스턴트 A가 더 나을 경우\n",
    "    - [[B]] – 어시스턴트 B가 더 나을 경우\n",
    "    - [[C]] – 두 응답이 동등한 품질일 경우"
   ]
  },
  {
   "cell_type": "code",
   "execution_count": 59,
   "id": "cbff5b8d",
   "metadata": {},
   "outputs": [],
   "source": [
    "def pairwise_eval(reviews, answer_a, answer_b):\n",
    "    eval_prompt = f\"\"\"[System]\n",
    "공정한 심사위원으로서 두 분이 제공한 한국어 요약의 품질을 평가해 주시기 바랍니다\n",
    "아래에 표시된 숙소에 대한 사용자 리뷰 세트의 AI 어시스턴트. 다음과 같은 어시스턴트를 선택해야 합니다\n",
    "사용자의 지시를 따르고 사용자의 질문에 더 잘 답합니다. 당신의 평가\n",
    "유용성, 관련성, 정확성, 깊이, 창의성과 같은 요소들을 고려해야 합니다,\n",
    "응답의 세부 사항 수준. 두 가지를 비교하여 평가를 시작합니다\n",
    "답변을 제공하고 간단한 설명을 제공합니다. 위치 편향을 피하고 다음을 보장합니다\n",
    "응답이 제시된 순서는 결정에 영향을 미치지 않습니다. 허용하지 않음\n",
    "평가에 영향을 미치는 응답의 길이. 특정 이름을 선호하지 않습니다\n",
    "보조원들. 가능한 한 객관적으로 행동하세요. 설명을 제공한 후, 다음과 같이 출력하세요\n",
    "이 형식을 엄격히 따름으로써 최종 판결: \"[[A]]\" 만약 보조원 A가 더 나은 경우, \"[B]\"\n",
    "조수 B가 더 나은 경우, 그리고 동점일 경우 \"[C]\".\n",
    "[User Reviews]\n",
    "{reviews}\n",
    "\n",
    "[The Start of Assistant A's Answer]\n",
    "{answer_a}\n",
    "[The End of Assistant A's Answer]\n",
    "\n",
    "[The Start of Assistant B's Answer]\n",
    "{answer_b}\n",
    "[The End of Assistant B's Answer]\"\"\"\n",
    "    \n",
    "        # OpenAI API를 사용하여 평가 요청\n",
    "    completion = client.chat.completions.create(\n",
    "        model='gpt-4o-2024-05-13',\n",
    "        messages=[{'role': 'user', 'content': eval_prompt}],\n",
    "        temperature=0.0\n",
    "    )\n",
    "\n",
    "    return completion.choices[0].message.content"
   ]
  },
  {
   "cell_type": "markdown",
   "id": "dedad1f3",
   "metadata": {},
   "source": [
    "## BASELINE 응답개발"
   ]
  },
  {
   "cell_type": "code",
   "execution_count": 60,
   "id": "675526ae",
   "metadata": {},
   "outputs": [],
   "source": [
    "PROMPT_BASELINE = f\"\"\"아래 숙소 리뷰에 대해 5문장 내로 요약해줘:\"\"\""
   ]
  },
  {
   "cell_type": "code",
   "execution_count": 61,
   "id": "0cc73302",
   "metadata": {},
   "outputs": [],
   "source": [
    "reviews, _ = preprocess_reviews(path='./res/3.kyongpo_the_hongc.json')  #, _ 두번째 응답은 안받음"
   ]
  },
  {
   "cell_type": "markdown",
   "id": "0445107b",
   "metadata": {},
   "source": [
    "## 리뷰데이터 요약 함수 정의 및 실행"
   ]
  },
  {
   "cell_type": "code",
   "execution_count": 62,
   "id": "dff193d9",
   "metadata": {},
   "outputs": [
    {
     "name": "stdout",
     "output_type": "stream",
     "text": [
      "강릉 여행 중 예약한 호텔은 주인의 품격이 느껴지며 조용하고 좋았다. 로비와 객실이 고급스럽고 깔끔해서 만족스러웠고, 침구가 편안해서 잘 수 있었다. 친절한 안내와 청결한 환경으로 편안하게 머물렀고, 위치도 좋아서 편안한 휴식을 즐겼다. 부모님도 만족하셨고, 직원들의 친절함과 시설의 깨끗함이 좋았다.\n"
     ]
    }
   ],
   "source": [
    "def summarize(reviews, prompt, temperature=0.0, model='gpt-3.5-turbo-0125'):\n",
    "    prompt = prompt + '\\n\\n' + reviews\n",
    "\n",
    "    completion = client.chat.completions.create(\n",
    "        model=model,\n",
    "        messages=[{'role': 'user', 'content': prompt}],\n",
    "        temperature=temperature\n",
    "    )\n",
    "\n",
    "    return completion.choices[0].message.content\n",
    "\n",
    "print(summarize(reviews, PROMPT_BASELINE))"
   ]
  },
  {
   "cell_type": "markdown",
   "id": "c248a47b",
   "metadata": {},
   "source": [
    "## 응답결과 평가하기\n",
    "- 대조군 문장 정의하기"
   ]
  },
  {
   "cell_type": "code",
   "execution_count": 63,
   "id": "e91f654c",
   "metadata": {},
   "outputs": [
    {
     "data": {
      "text/plain": [
       "'이 숙소는 청결하고 침구 상태가 좋으며, 직원들이 친절하다는 평가가 많습니다. 위치가 좋고 조용하여 편안하게 쉴 수 있는 곳으로 추천됩니다. 로비와 객실이 고급스럽고 깔끔하다는 점도 언급되었습니다. 다만, 배달음식 제한과 방음 문제는 아쉬운 점으로 지적되었습니다. 전반적으로 재방문 의사가 많고 만족도가 높은 숙소입니다.'"
      ]
     },
     "execution_count": 63,
     "metadata": {},
     "output_type": "execute_result"
    }
   ],
   "source": [
    "# 대조군 문장 가져오기(야놀자 AI good 요약 문장)\n",
    "# summary_real_20250530 = '숙소는 강릉 경포해변 바로 앞에 위치하며, 오션뷰와 경포호수 전망을 제공합니다. 객실과 화장실이 청결하게 관리되고 있으며, 편안한 침대와 고급 침구로 쾌적한 숙박 환경을 제공합니다. 주변에 식당과 편의시설이 가까워 접근성이 좋고, 주차 공간도 넓습니다. 직원들의 친절한 응대와 서비스도 긍정적인 평가를 받고 있으며, 대체로 소음 차단이 잘 이루어져 조용한 환경에서 휴식을 취할 수 있습니다. 전반적으로 방문자들은 숙소의 청결도와 편안함, 아늑한 분위기에 매우 만족하는 후기를 남기고 있습니다.'\n",
    "\n",
    "summary_4o_20250530 = summarize(reviews, PROMPT_BASELINE, temperature=0.0, model='gpt-4o-2024-05-13')\n",
    "summary_4o_20250530"
   ]
  },
  {
   "cell_type": "code",
   "execution_count": 64,
   "id": "61336e30",
   "metadata": {},
   "outputs": [
    {
     "name": "stdout",
     "output_type": "stream",
     "text": [
      "### 평가\n",
      "\n",
      "**Assistant A:**\n",
      "- **유용성:** 리뷰의 주요 포인트를 잘 요약하여 유용함.\n",
      "- **관련성:** 리뷰의 핵심 내용을 잘 반영함.\n",
      "- **정확성:** 리뷰의 내용을 정확하게 전달함.\n",
      "- **깊이:** 리뷰의 긍정적인 측면에 집중하여 깊이 있는 요약을 제공함.\n",
      "- **창의성:** 리뷰의 다양한 측면을 잘 조합하여 창의적으로 요약함.\n",
      "\n",
      "**Assistant B:**\n",
      "- **유용성:** 리뷰의 주요 포인트를 잘 요약하여 유용함.\n",
      "- **관련성:** 리뷰의 핵심 내용을 잘 반영함.\n",
      "- **정확성:** 리뷰의 내용을 정확하게 전달함.\n",
      "- **깊이:** 긍정적인 측면과 아쉬운 점을 모두 언급하여 깊이 있는 요약을 제공함.\n",
      "- **창의성:** 리뷰의 다양한 측면을 잘 조합하여 창의적으로 요약함.\n",
      "\n",
      "### 최종 판결\n",
      "두 보조원의 답변 모두 유용하고 정확하며, 리뷰의 주요 포인트를 잘 반영하고 있습니다. 그러나 Assistant B는 긍정적인 측면뿐만 아니라 아쉬운 점도 언급하여 더 깊이 있는 요약을 제공하였습니다. 따라서 최종 판결은:\n",
      "\n",
      "[[B]]\n"
     ]
    }
   ],
   "source": [
    "# 비교하기\n",
    "# pairwise_eval(리뷰 데이터, AI 요약한 데이터_A, 대조군 AI 문장_B))\n",
    "print(pairwise_eval(reviews, summarize(reviews, PROMPT_BASELINE), summary_4o_20250530))"
   ]
  },
  {
   "cell_type": "markdown",
   "id": "50879da6",
   "metadata": {},
   "source": [
    "# 대규모 평가 스크립트\n",
    "- 원래는 많은 수의 다양한 데이터에 대해 평가를 하지만, 동일한 Prompt에 대해 temperature 높여서 평가 진행"
   ]
  },
  {
   "cell_type": "code",
   "execution_count": 65,
   "id": "6a161b0c",
   "metadata": {},
   "outputs": [
    {
     "data": {
      "text/plain": [
       "['강릉 여행 중 예약한 숙소는 주인의 품격을 느낄 수 있는 조용하고 깔끔한 호텔이었고, 객실과 침구 모두 만족스러웠습니다. 직원들도 친절하고 객실은 깨끗하며 위치도 좋아서 다음에도 이용하고 싶은 곳입니다. 부모님도 만족하셨으며 편안하고 편리한 숙소였지만 방음이 조금 아쉬운 부분도 있었습니다.整',\n",
       " '강릉 여행길에 예약을 잘한 호텔로 조용하고 품격 느껴짐. 로비와 객실이 고급스럽고 깔끔하여 만족스러웠고, 친절한 안내와 정리정돈으로 편안히 쉴 수 있었음. 위치가 좋고 친절한 직원들이 있는 깨끗하고 이쁜 숙소로 추천. 침구 등 모든 부분이 청결하며 편안한 휴식을 즐길 수 있었다. 주변 인프라가 좋고 침대가 넓고 깨끗하여 즐거운 휴식을 얻을 수 있었음.',\n",
       " '강릉 여행길에 예약한 호텔이 주인의 품격이 느껴져 조용하고 좋았다. 로비와 객실이 고급하고 깔끔해서 만족스러운 1박을 했으며, 침구도 편안했고 친절한 안내와 정돈이 좋았다. 위치가 좋고 깨끗하여 잘 쉬었다 간 것 같으며, 부모님도 만족하셨고 직원분들도 친절했다.깨끗하고 모든 부분이 청결하며, 시설이 깔끔하고 편안한 택지지구에 위치했다. 침대가 넓고 깨끗하고 프론트분들도 친절했고, 위치도 좋아서 추천할 만했다. 혼자서 넓게 사용하기 좋았고, 조식 샌드위치도 맛있었으며 직원분들의 서비스도 친절했다. 편하게 보내고 즐거운 시간을 보냈다.',\n",
       " '강릉 여행 중 예약한 호텔은 주인의 품격과 조용한 분위기가 느껴져 아주 좋았다. 로비와 객실 모두 고급스러웠고 침구도 훌륭하여 편안하게 잠을 잘 잘 수 있었다. 직원들의 친절한 안내와 청결한 시설로 편안한 숙박을 즐길 수 있었으며 위치도 좋아 편리한 여행이 가능했다. 부모님을 위해 예약한 숙소는 너무 만족하셨고 깔끔하고 아늑한 분위기가 좋았다.',\n",
       " '강릉 여행길에 예약을 잘한 호텔, 조용하고 품격 느껴지며 만족스러운 1박, 침구와 안내가 좋아 잘 쉴 수 있었고 깨끗한 숙박, 친절한 직원과 좋은 위치로 편안한 휴식, 깨끗하고 친절한 최고의 숙소요.',\n",
       " '강릉 여행길 호텔에서 조용하고 품격 있는 휴식을 즐길 수 있었고, 깔끔하고 친절한 서비스도 만족스러웠다. 위치가 좋고 객실이 깨끗하며 침구가 편안해서 좋았다. 직원들의 친절한 안내와 깨끗한 시설이 만족스러웠고, 조식도 맛있어서 편하게 쉴 수 있었다. 부모님도 만족하셨으며, 다만 방음이 조금 아쉬운 점이 있었지만 다음에도 이용하고 싶은 숙소였다.',\n",
       " '강릉 여행 중 호텔 예약 잘한 것 같아요. 호텔은 품격 있고 조용하며 깨끗하고 친절한 서비스로 만족스러운 숙박이었습니다. 침구도 편안하고 위치도 좋아 다시 묵을 의향이 있습니다. 부모님도 만족하셨고 청결하고 친절한 직원들이 인상적이었습니다. 위치도 좋고 숙소 전체적으로 만족스러웠어요.',\n",
       " '강릉 여행 중 예약한 호텔은 주인의 품격을 느끼고 조용하고 좋았다. 로비와 객실 모두 고급스럽고 깔끔하여 만족스러웠으며, 침구가 편안해서 잘 잤다. 친절한 안내와 청결한 환경으로 편안한 숙박을 즐길 수 있었고, 위치도 좋아서 만족스럽게 머물렀다. 부모님을 위해 예약한 숙소는 매우 만족하셨고, 직원들의 친절함에 대해 감사를 전했다.',\n",
       " '강릉 여행 중 예약했던 호텔은 주인의 품격과 조용함이 느껴졌고, 깨끗하고 위치도 좋아서 매우 만족스러웠습니다. 직원들도 친절하고 안내가 잘되어 편안하게 쉴 수 있었으며, 침구와 시설 상태가 청결하고 좋았다고 하였습니다. 다만 외부 음식 관련 사전 안내가 필요한 부분이 있었으며, 방음이 아쉬웠지만 전반적으로 만족스러운 숙박이었다고 평가되었습니다.',\n",
       " '강릉 여행길에 예약을 잘한 조용하고 품격있는 호텔. 깨끗하고 침구도 좋아서 만족스러운 1박. 친절한 안내와 정돈으로 편안한 휴식. 위치 좋고 깨끗한 숙소로 편안한 휴식. 아늑하고 깨끗한 숙소로 만족하고 다시 방문 의사 있음.']"
      ]
     },
     "execution_count": 65,
     "metadata": {},
     "output_type": "execute_result"
    }
   ],
   "source": [
    "# 같은 리뷰에 대해서 요약을 10번 수행(일반적으로는 50~100번 수행하면 좋음)\n",
    "eval_count = 10\n",
    "\n",
    "\n",
    "summaries_baseline = [summarize(reviews, PROMPT_BASELINE, temperature=1.0) for _ in range(eval_count)]\n",
    "summaries_baseline"
   ]
  },
  {
   "cell_type": "code",
   "execution_count": 66,
   "id": "e2060bf8",
   "metadata": {},
   "outputs": [
    {
     "data": {
      "text/plain": [
       "['이 숙소는 청결하고 침구 상태가 좋으며, 직원들이 친절하다는 평가가 많습니다. 위치가 좋고 조용하여 편안하게 쉴 수 있는 곳으로 추천됩니다. 로비와 객실이 고급스럽고 깔끔하다는 점도 언급되었습니다. 다만, 배달음식 제한과 방음 문제는 아쉬운 점으로 지적되었습니다. 전반적으로 재방문 의사가 많고 만족도가 높은 숙소입니다.',\n",
       " '이 숙소는 청결하고 침구 상태가 좋으며, 직원들이 친절하다는 평가가 많습니다. 위치가 좋고 조용하여 편안하게 쉴 수 있는 곳으로 추천됩니다. 로비와 객실이 고급스럽고 깔끔하다는 점도 언급되었습니다. 다만, 배달음식 제한과 방음 문제는 아쉬운 점으로 지적되었습니다. 전반적으로 재방문 의사가 많고 만족도가 높은 숙소입니다.',\n",
       " '이 숙소는 청결하고 침구 상태가 좋으며, 직원들이 친절하다는 평가가 많습니다. 위치가 좋고 조용하여 편안하게 쉴 수 있는 곳으로 추천됩니다. 로비와 객실이 고급스럽고 깔끔하다는 점도 언급되었습니다. 다만, 배달음식 제한과 방음 문제는 아쉬운 점으로 지적되었습니다. 전반적으로 재방문 의사가 많고 만족도가 높은 숙소입니다.',\n",
       " '이 숙소는 청결하고 침구 상태가 좋으며, 직원들이 친절하다는 평가가 많습니다. 위치가 좋고 조용하여 편안하게 쉴 수 있는 곳으로 추천됩니다. 로비와 객실이 고급스럽고 깔끔하다는 점도 언급되었습니다. 다만, 배달음식 제한과 방음 문제는 아쉬운 점으로 지적되었습니다. 전반적으로 재방문 의사가 많고 만족도가 높은 숙소입니다.',\n",
       " '이 숙소는 청결하고 침구 상태가 좋으며, 직원들이 친절하다는 평가가 많습니다. 위치가 좋고 조용하여 편안하게 쉴 수 있는 곳으로 추천됩니다. 로비와 객실이 고급스럽고 깔끔하다는 점도 언급되었습니다. 다만, 배달음식 제한과 방음 문제는 아쉬운 점으로 지적되었습니다. 전반적으로 재방문 의사가 많고 만족도가 높은 숙소입니다.',\n",
       " '이 숙소는 청결하고 침구 상태가 좋으며, 직원들이 친절하다는 평가가 많습니다. 위치가 좋고 조용하여 편안하게 쉴 수 있는 곳으로 추천됩니다. 로비와 객실이 고급스럽고 깔끔하다는 점도 언급되었습니다. 다만, 배달음식 제한과 방음 문제는 아쉬운 점으로 지적되었습니다. 전반적으로 재방문 의사가 많고 만족도가 높은 숙소입니다.',\n",
       " '이 숙소는 청결하고 침구 상태가 좋으며, 직원들이 친절하다는 평가가 많습니다. 위치가 좋고 조용하여 편안하게 쉴 수 있는 곳으로 추천됩니다. 로비와 객실이 고급스럽고 깔끔하다는 점도 언급되었습니다. 다만, 배달음식 제한과 방음 문제는 아쉬운 점으로 지적되었습니다. 전반적으로 재방문 의사가 많고 만족도가 높은 숙소입니다.',\n",
       " '이 숙소는 청결하고 침구 상태가 좋으며, 직원들이 친절하다는 평가가 많습니다. 위치가 좋고 조용하여 편안하게 쉴 수 있는 곳으로 추천됩니다. 로비와 객실이 고급스럽고 깔끔하다는 점도 언급되었습니다. 다만, 배달음식 제한과 방음 문제는 아쉬운 점으로 지적되었습니다. 전반적으로 재방문 의사가 많고 만족도가 높은 숙소입니다.',\n",
       " '이 숙소는 청결하고 침구 상태가 좋으며, 직원들이 친절하다는 평가가 많습니다. 위치가 좋고 조용하여 편안하게 쉴 수 있는 곳으로 추천됩니다. 로비와 객실이 고급스럽고 깔끔하다는 점도 언급되었습니다. 다만, 배달음식 제한과 방음 문제는 아쉬운 점으로 지적되었습니다. 전반적으로 재방문 의사가 많고 만족도가 높은 숙소입니다.',\n",
       " '이 숙소는 청결하고 침구 상태가 좋으며, 직원들이 친절하다는 평가가 많습니다. 위치가 좋고 조용하여 편안하게 쉴 수 있는 곳으로 추천됩니다. 로비와 객실이 고급스럽고 깔끔하다는 점도 언급되었습니다. 다만, 배달음식 제한과 방음 문제는 아쉬운 점으로 지적되었습니다. 전반적으로 재방문 의사가 많고 만족도가 높은 숙소입니다.']"
      ]
     },
     "execution_count": 66,
     "metadata": {},
     "output_type": "execute_result"
    }
   ],
   "source": [
    "pairwise_words = [summary_4o_20250530 for _ in range(len(summaries_baseline))]\n",
    "pairwise_words"
   ]
  },
  {
   "cell_type": "code",
   "execution_count": 67,
   "id": "8389653f",
   "metadata": {},
   "outputs": [
    {
     "name": "stderr",
     "output_type": "stream",
     "text": [
      " 10%|█         | 1/10 [00:03<00:29,  3.31s/it]"
     ]
    },
    {
     "name": "stdout",
     "output_type": "stream",
     "text": [
      "Evaluation Error\n"
     ]
    },
    {
     "name": "stderr",
     "output_type": "stream",
     "text": [
      " 80%|████████  | 8/10 [00:28<00:07,  3.59s/it]"
     ]
    },
    {
     "name": "stdout",
     "output_type": "stream",
     "text": [
      "Evaluation Error\n"
     ]
    },
    {
     "name": "stderr",
     "output_type": "stream",
     "text": [
      " 90%|█████████ | 9/10 [00:34<00:04,  4.36s/it]"
     ]
    },
    {
     "name": "stdout",
     "output_type": "stream",
     "text": [
      "Evaluation Error\n"
     ]
    },
    {
     "name": "stderr",
     "output_type": "stream",
     "text": [
      "100%|██████████| 10/10 [00:40<00:00,  4.02s/it]"
     ]
    },
    {
     "name": "stdout",
     "output_type": "stream",
     "text": [
      "Wins: 3, Losses: 4, Ties: 0\n"
     ]
    },
    {
     "name": "stderr",
     "output_type": "stream",
     "text": [
      "\n"
     ]
    }
   ],
   "source": [
    "from tqdm import tqdm  # 진행상태를 보여줌\n",
    "\n",
    "def pairwise_eval_batch(reviews, answers_a, answers_b):\n",
    "    a_cnt, b_cnt, draw_cnt = 0, 0, 0\n",
    "    for i in tqdm(range(len(answers_a))):\n",
    "        # 최종 결과\n",
    "        verdict_text = pairwise_eval(reviews, answers_a[i], answers_b[i])\n",
    "\n",
    "        # A인경우 카운트\n",
    "        if '[[A]]' in verdict_text:\n",
    "            a_cnt += 1\n",
    "        # B인경우 카운트\n",
    "        elif '[[B]]' in verdict_text:\n",
    "            b_cnt += 1\n",
    "        # C인경우 카운트\n",
    "        elif '[[C]]' in verdict_text:\n",
    "            draw_cnt += 1\n",
    "        # 나머지\n",
    "        else:\n",
    "            print('Evaluation Error')\n",
    "    # a good, b bad, c 무승부 비슷함.\n",
    "    return a_cnt, b_cnt, draw_cnt\n",
    "\n",
    "# 요약한 것과 대조군 비교\n",
    "wins, losses, ties = pairwise_eval_batch(reviews, summaries_baseline, [summary_4o_20250530 for _ in range(len(summaries_baseline))])\n",
    "print(f'Wins: {wins}, Losses: {losses}, Ties: {ties}')"
   ]
  },
  {
   "cell_type": "markdown",
   "id": "de8dbd1f",
   "metadata": {},
   "source": [
    "## 응답결과 고도화 1 - 요약 조건들 명시 후 평가\n",
    "- role과 수행 목표 정의\n",
    "- 요약 결과에 대한 충족 조건\n",
    "- 톤엔 매너와 예시"
   ]
  },
  {
   "cell_type": "code",
   "execution_count": 68,
   "id": "a34c7b06",
   "metadata": {},
   "outputs": [
    {
     "name": "stderr",
     "output_type": "stream",
     "text": [
      " 80%|████████  | 8/10 [00:29<00:07,  3.87s/it]"
     ]
    },
    {
     "name": "stdout",
     "output_type": "stream",
     "text": [
      "Evaluation Error\n"
     ]
    },
    {
     "name": "stderr",
     "output_type": "stream",
     "text": [
      "100%|██████████| 10/10 [00:36<00:00,  3.67s/it]"
     ]
    },
    {
     "name": "stdout",
     "output_type": "stream",
     "text": [
      "Wins: 2, Losses: 7, Ties: 0\n"
     ]
    },
    {
     "name": "stderr",
     "output_type": "stream",
     "text": [
      "\n"
     ]
    }
   ],
   "source": [
    "prompt = f\"\"\"당신은 요약 전문가입니다. 사용자 숙소 리뷰들이 주어졌을 때 요약하는 것이 당신의 목표입니다.\n",
    "\n",
    "요약 결과는 다음 조건들을 충족해야 합니다:\n",
    "1. 모든 문장은 항상 존댓말로 끝나야 합니다.\n",
    "2. 숙소에 대해 소개하는 톤앤매너로 작성해주세요.\n",
    "  2-1. 좋은 예시\n",
    "    a) 전반적으로 좋은 숙소였고 방음도 괜찮았다는 평입니다.\n",
    "    b) 재방문 예정이라는 평들이 존재합니다.\n",
    "  2-2. 나쁜 예시\n",
    "    a) 좋은 숙소였고 방음도 괜찮았습니다.\n",
    "    b) 재방문 예정입니다.\n",
    "3. 요약 결과는 최소 2문장, 최대 5문장 사이로 작성해주세요.\n",
    "    \n",
    "아래 숙소 리뷰들에 대해 요약해주세요:\"\"\"\n",
    "\n",
    "eval_count = 10\n",
    "summaries = [summarize(reviews, prompt, temperature=1.0) for _ in range(eval_count)]\n",
    "wins, losses, ties = pairwise_eval_batch(reviews, summaries, [summary_4o_20250530 for _ in range(len(summaries))])\n",
    "print(f'Wins: {wins}, Losses: {losses}, Ties: {ties}')"
   ]
  },
  {
   "cell_type": "markdown",
   "id": "b19fd77f",
   "metadata": {},
   "source": [
    "## 응답결과 고도화 2 - 입력 데이터의 품질 증가\n",
    "- 리뷰 길이가 짧은 것 필터링함, 고품질 리뷰만 남김"
   ]
  },
  {
   "cell_type": "code",
   "execution_count": 69,
   "id": "612f403d",
   "metadata": {},
   "outputs": [
    {
     "ename": "FileNotFoundError",
     "evalue": "[Errno 2] No such file or directory: './res/kyongpo_the_hongc.json'",
     "output_type": "error",
     "traceback": [
      "\u001b[31m---------------------------------------------------------------------------\u001b[39m",
      "\u001b[31mFileNotFoundError\u001b[39m                         Traceback (most recent call last)",
      "\u001b[36mCell\u001b[39m\u001b[36m \u001b[39m\u001b[32mIn[69]\u001b[39m\u001b[32m, line 44\u001b[39m\n\u001b[32m     40\u001b[39m     reviews_bad_text = \u001b[33m'\u001b[39m\u001b[38;5;130;01m\\n\u001b[39;00m\u001b[33m'\u001b[39m.join(reviews_bad)\n\u001b[32m     42\u001b[39m     \u001b[38;5;28;01mreturn\u001b[39;00m reviews_good_text, reviews_bad_text\n\u001b[32m---> \u001b[39m\u001b[32m44\u001b[39m reviews, _ = \u001b[43mpreprocess_reviews\u001b[49m\u001b[43m(\u001b[49m\u001b[43m)\u001b[49m\n",
      "\u001b[36mCell\u001b[39m\u001b[36m \u001b[39m\u001b[32mIn[69]\u001b[39m\u001b[32m, line 5\u001b[39m, in \u001b[36mpreprocess_reviews\u001b[39m\u001b[34m(path)\u001b[39m\n\u001b[32m      4\u001b[39m \u001b[38;5;28;01mdef\u001b[39;00m\u001b[38;5;250m \u001b[39m\u001b[34mpreprocess_reviews\u001b[39m(path=\u001b[33m'\u001b[39m\u001b[33m./res/kyongpo_the_hongc.json\u001b[39m\u001b[33m'\u001b[39m):\n\u001b[32m----> \u001b[39m\u001b[32m5\u001b[39m     \u001b[38;5;28;01mwith\u001b[39;00m \u001b[38;5;28;43mopen\u001b[39;49m\u001b[43m(\u001b[49m\u001b[43mpath\u001b[49m\u001b[43m,\u001b[49m\u001b[43m \u001b[49m\u001b[33;43m'\u001b[39;49m\u001b[33;43mr\u001b[39;49m\u001b[33;43m'\u001b[39;49m\u001b[43m,\u001b[49m\u001b[43m \u001b[49m\u001b[43mencoding\u001b[49m\u001b[43m=\u001b[49m\u001b[33;43m'\u001b[39;49m\u001b[33;43mutf-8\u001b[39;49m\u001b[33;43m'\u001b[39;49m\u001b[43m)\u001b[49m \u001b[38;5;28;01mas\u001b[39;00m f:\n\u001b[32m      6\u001b[39m         review_list = json.load(f)\n\u001b[32m      8\u001b[39m     reviews_good, reviews_bad = [], []\n",
      "\u001b[36mFile \u001b[39m\u001b[32mc:\\Users\\Admin\\miniconda3\\envs\\llm_env\\Lib\\site-packages\\IPython\\core\\interactiveshell.py:326\u001b[39m, in \u001b[36m_modified_open\u001b[39m\u001b[34m(file, *args, **kwargs)\u001b[39m\n\u001b[32m    319\u001b[39m \u001b[38;5;28;01mif\u001b[39;00m file \u001b[38;5;129;01min\u001b[39;00m {\u001b[32m0\u001b[39m, \u001b[32m1\u001b[39m, \u001b[32m2\u001b[39m}:\n\u001b[32m    320\u001b[39m     \u001b[38;5;28;01mraise\u001b[39;00m \u001b[38;5;167;01mValueError\u001b[39;00m(\n\u001b[32m    321\u001b[39m         \u001b[33mf\u001b[39m\u001b[33m\"\u001b[39m\u001b[33mIPython won\u001b[39m\u001b[33m'\u001b[39m\u001b[33mt let you open fd=\u001b[39m\u001b[38;5;132;01m{\u001b[39;00mfile\u001b[38;5;132;01m}\u001b[39;00m\u001b[33m by default \u001b[39m\u001b[33m\"\u001b[39m\n\u001b[32m    322\u001b[39m         \u001b[33m\"\u001b[39m\u001b[33mas it is likely to crash IPython. If you know what you are doing, \u001b[39m\u001b[33m\"\u001b[39m\n\u001b[32m    323\u001b[39m         \u001b[33m\"\u001b[39m\u001b[33myou can use builtins\u001b[39m\u001b[33m'\u001b[39m\u001b[33m open.\u001b[39m\u001b[33m\"\u001b[39m\n\u001b[32m    324\u001b[39m     )\n\u001b[32m--> \u001b[39m\u001b[32m326\u001b[39m \u001b[38;5;28;01mreturn\u001b[39;00m \u001b[43mio_open\u001b[49m\u001b[43m(\u001b[49m\u001b[43mfile\u001b[49m\u001b[43m,\u001b[49m\u001b[43m \u001b[49m\u001b[43m*\u001b[49m\u001b[43margs\u001b[49m\u001b[43m,\u001b[49m\u001b[43m \u001b[49m\u001b[43m*\u001b[49m\u001b[43m*\u001b[49m\u001b[43mkwargs\u001b[49m\u001b[43m)\u001b[49m\n",
      "\u001b[31mFileNotFoundError\u001b[39m: [Errno 2] No such file or directory: './res/kyongpo_the_hongc.json'"
     ]
    }
   ],
   "source": [
    "import datetime\n",
    "from dateutil import parser\n",
    "\n",
    "def preprocess_reviews(path='./res/kyongpo_the_hongc.json'):\n",
    "    with open(path, 'r', encoding='utf-8') as f:\n",
    "        review_list = json.load(f)\n",
    "\n",
    "    reviews_good, reviews_bad = [], []\n",
    "\n",
    "    current_date = datetime.datetime.now()\n",
    "    date_boundary = current_date - datetime.timedelta(days=6*30)\n",
    "\n",
    "    filtered_cnt = 0\n",
    "    for r in review_list:\n",
    "        review_date_str = r['date']\n",
    "        try:\n",
    "            review_date = parser.parse(review_date_str)\n",
    "        except (ValueError, TypeError):\n",
    "            review_date = current_date\n",
    "\n",
    "        if review_date < date_boundary:\n",
    "            continue\n",
    "\n",
    "        # 고품질 리뷰만 남김\n",
    "        if len(r['review']) < 30:\n",
    "            filtered_cnt += 1\n",
    "            # print(r['review'])\n",
    "            continue\n",
    "\n",
    "        if r['stars'] == 5:\n",
    "            reviews_good.append('[REVIEW_START]' + r['review'] + '[REVIEW_END]')\n",
    "        else:\n",
    "            reviews_bad.append('[REVIEW_START]' + r['review'] + '[REVIEW_END]')\n",
    "\n",
    "    # 최대 길이가 50까지 되도로 자름 \n",
    "    reviews_good = reviews_good[:min(len(reviews_good), 50)]\n",
    "    reviews_bad = reviews_bad[:min(len(reviews_bad), 50)]\n",
    "\n",
    "    reviews_good_text = '\\n'.join(reviews_good)\n",
    "    reviews_bad_text = '\\n'.join(reviews_bad)\n",
    "\n",
    "    return reviews_good_text, reviews_bad_text\n",
    "\n",
    "reviews, _ = preprocess_reviews()"
   ]
  },
  {
   "cell_type": "markdown",
   "id": "c1fcaf4c",
   "metadata": {},
   "source": [
    "## 응답결과 고도화 3 - One-Shot Prompting"
   ]
  },
  {
   "cell_type": "code",
   "execution_count": null,
   "id": "0bcf8c96",
   "metadata": {},
   "outputs": [],
   "source": [
    "reviews_1shot, _ = preprocess_reviews('./res/ninetree_pangyo.json')\n",
    "summary_1shot = summarize(reviews_1shot, prompt, temperature=0.0, model='gpt-3.5-turbo-0125')\n",
    "prompt_1shot = f\"\"\"당신은 요약 전문가입니다. 사용자 숙소 리뷰들이 주어졌을 때 요약하는 것이 당신의 목표입니다.\n",
    "\n",
    "요약 결과는 다음 조건들을 충족해야 합니다:\n",
    "1. 모든 문장은 항상 존댓말로 끝나야 합니다.\n",
    "2. 숙소에 대해 소개하는 톤앤매너로 작성해주세요.\n",
    "  2-1. 좋은 예시\n",
    "    a) 전반적으로 좋은 숙소였고 방음도 괜찮았다는 평입니다.\n",
    "    b) 재방문 예정이라는 평들이 존재합니다.\n",
    "  2-2. 나쁜 예시\n",
    "    a) 좋은 숙소였고 방음도 괜찮았습니다.\n",
    "    b) 재방문 예정입니다.\n",
    "3. 요약 결과는 최소 2문장, 최대 5문장 사이로 작성해주세요.\n",
    "\n",
    "다음은 리뷰들과 요약 예시입니다.\n",
    "예시 리뷰들:\n",
    "{reviews_1shot}\n",
    "예시 요약 결과:\n",
    "{summary_1shot}\n",
    "    \n",
    "아래 숙소 리뷰들에 대해 요약해주세요:\"\"\"\n",
    "\n",
    "summaries = [summarize(reviews, prompt, temperature=1.0, model='gpt-3.5-turbo-0125') for _ in range(eval_count)]\n",
    "wins, losses, ties = pairwise_eval_batch(reviews, summaries, [summary_4o_20250530 for _ in range(len(summaries))])\n",
    "print(f'Wins: {wins}, Losses: {losses}, Ties: {ties}')"
   ]
  },
  {
   "cell_type": "code",
   "execution_count": null,
   "id": "c9b09214",
   "metadata": {},
   "outputs": [],
   "source": [
    "summaries"
   ]
  },
  {
   "cell_type": "code",
   "execution_count": null,
   "id": "c1fb3841",
   "metadata": {},
   "outputs": [],
   "source": [
    "prompt_1shot = f\"\"\"당신은 요약 전문가입니다. 사용자 숙소 리뷰들이 주어졌을 때 요약하는 것이 당신의 목표입니다. 다음은 리뷰들과 요약 예시입니다.\n",
    "예시 리뷰들:\n",
    "{reviews_1shot}\n",
    "예시 요약 결과:\n",
    "{summary_1shot}\n",
    "    \n",
    "아래 숙소 리뷰들에 대해 요약해주세요:\"\"\"\n",
    "\n",
    "summaries = [summarize(reviews, prompt_1shot, temperature=1.0, model='gpt-3.5-turbo-0125') for _ in range(eval_count)]\n",
    "wins, losses, ties = pairwise_eval_batch(reviews, summaries, [summary_4o_20250530 for _ in range(len(summaries))])\n",
    "print(f'Wins: {wins}, Losses: {losses}, Ties: {ties}')"
   ]
  },
  {
   "cell_type": "markdown",
   "id": "f5fa840f",
   "metadata": {},
   "source": [
    "## prompt_1shot을 피클파일로 저장하기"
   ]
  },
  {
   "cell_type": "code",
   "execution_count": null,
   "id": "b1e47a1f",
   "metadata": {},
   "outputs": [],
   "source": [
    "# prompt_1shot을 피클파일로 저장하기\n",
    "file_name = \"./res/prompt_1shotv1.pickle\"\n",
    "# 파일로 저장\n",
    "import pickle\n",
    "with open(file_name, 'wb') as f:\n",
    "    pickle.dump(prompt_1shot, f)\n",
    "    print(summaries)"
   ]
  }
 ],
 "metadata": {
  "kernelspec": {
   "display_name": "llm_env",
   "language": "python",
   "name": "python3"
  },
  "language_info": {
   "codemirror_mode": {
    "name": "ipython",
    "version": 3
   },
   "file_extension": ".py",
   "mimetype": "text/x-python",
   "name": "python",
   "nbconvert_exporter": "python",
   "pygments_lexer": "ipython3",
   "version": "3.11.11"
  }
 },
 "nbformat": 4,
 "nbformat_minor": 5
}
